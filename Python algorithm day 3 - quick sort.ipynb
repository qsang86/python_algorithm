{
 "cells": [
  {
   "cell_type": "markdown",
   "metadata": {},
   "source": [
    "## Algorithm \n",
    "Divide/Conquer & Quick Sort\n",
    "> 분할: input >> 2 이상의 작은 입력사례로\n",
    "\n",
    "> 정복: 작지 않으면 재귀호출\n",
    "\n",
    "> 통합: 해답도출\n",
    "\n",
    "\n",
    "Greedy (탐욕법)\n",
    "Dynamic programming (동적계획)"
   ]
  },
  {
   "cell_type": "markdown",
   "metadata": {},
   "source": [
    "## Quick Sort\n",
    "\n",
    "divide: select pivot and divide right & left\n",
    "\n",
    "conquer: quick sort each right and left list using recursion\n",
    "\n",
    "obtain: return sorted list\n",
    "\n",
    "> how to choose pivot?\n",
    ">> At comffort, choose the first element as a pivot\n",
    "> how to divide pivot to a list\n",
    ">> use 2 index (i, j) compare and swap\n",
    "\n",
    "recursive method:\n",
    ">choose the last item in the list as a pivot\n",
    ">>create 2 lists (>pivot & <pivot)\n",
    ">>>if >pivot store, else store\n",
    ">>>>combine + recursion\n"
   ]
  },
  {
   "cell_type": "code",
   "execution_count": 10,
   "metadata": {},
   "outputs": [
    {
     "name": "stdout",
     "output_type": "stream",
     "text": [
      "[10, 12, 13, 15, 20, 22, 25, 27]\n"
     ]
    }
   ],
   "source": [
    "def quicksort(s):\n",
    "    length = len(s)\n",
    "    if(length <= 1):\n",
    "        return s\n",
    "    else:\n",
    "        pivot = s.pop()\n",
    "        items_greater = []\n",
    "        items_lower = []\n",
    "    \n",
    "    for item in s:\n",
    "        if(item > pivot):\n",
    "            items_greater.append(item)\n",
    "        else:\n",
    "            items_lower.append(item)\n",
    "    \n",
    "    return quicksort(items_lower) + [pivot] + quicksort(items_greater)\n",
    "\n",
    "def main():\n",
    "    alist = [27, 10, 12, 20, 25, 13, 15, 22]\n",
    "    sorted = quicksort(alist)\n",
    "    print(sorted)\n",
    "\n",
    "if __name__ == \"__main__\":\n",
    "    main()"
   ]
  },
  {
   "cell_type": "code",
   "execution_count": null,
   "metadata": {},
   "outputs": [],
   "source": []
  }
 ],
 "metadata": {
  "kernelspec": {
   "display_name": "Python 3",
   "language": "python",
   "name": "python3"
  },
  "language_info": {
   "codemirror_mode": {
    "name": "ipython",
    "version": 3
   },
   "file_extension": ".py",
   "mimetype": "text/x-python",
   "name": "python",
   "nbconvert_exporter": "python",
   "pygments_lexer": "ipython3",
   "version": "3.8.3"
  }
 },
 "nbformat": 4,
 "nbformat_minor": 4
}
