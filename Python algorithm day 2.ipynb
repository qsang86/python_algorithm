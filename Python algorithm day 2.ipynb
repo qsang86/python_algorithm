{
 "cells": [
  {
   "cell_type": "markdown",
   "metadata": {},
   "source": [
    "# Divide-and-Conquer (분할정복)\n",
    "\n",
    "## Binary Search\n",
    "문제: Sorted List S << key x exists?\n",
    "\n",
    "ans: if exists, return index of x. if not, return -1\n",
    "\n",
    "알고리즘: 분할정복\n",
    "> divide: 정 가운데 원소 기준으로 list 2개로 분할\n",
    "\n",
    "> conquer: if x > S[mid], right search, vice versa\n",
    "\n",
    "> obtain: return ans from the selected list"
   ]
  },
  {
   "cell_type": "code",
   "execution_count": 45,
   "metadata": {},
   "outputs": [],
   "source": [
    "def location(S, low, high):\n",
    "    if (low > high):\n",
    "        return 0\n",
    "    else:\n",
    "        mid = (low+high)//2\n",
    "        if(x == S[mid]):\n",
    "            return mid\n",
    "        elif(x < S[mid]):\n",
    "            ##recursive return\n",
    "            return location(S, low, mid-1)\n",
    "        else: \n",
    "            return location(S, mid+1, high)\n"
   ]
  },
  {
   "cell_type": "code",
   "execution_count": 15,
   "metadata": {},
   "outputs": [
    {
     "name": "stdout",
     "output_type": "stream",
     "text": [
      "[-1, 10, 12, 13, 14, 18, 20, 25, 27, 30, 35, 40, 45]\n",
      "18\n",
      "5\n"
     ]
    }
   ],
   "source": [
    "S = [-1, 10, 12, 13, 14, 18, 20, 25, 27, 30, 35, 40, 45]\n",
    "x = 18\n",
    "loc = location(S, 1, len(S)-1)\n",
    "print(S)\n",
    "print(x)\n",
    "print(loc)"
   ]
  },
  {
   "cell_type": "markdown",
   "metadata": {},
   "source": [
    "## 합병 정렬 (merge sort)\n",
    "list sorting\n",
    ">divide: 원소 n개인 s를 n/2의 원소를 가진 2개의 list로 분할\n",
    ">conquer: 왼쪽&오른쪽 리스트 각각 recursive merge\n",
    ">combine: merge & \"return\"\n"
   ]
  },
  {
   "cell_type": "code",
   "execution_count": 16,
   "metadata": {},
   "outputs": [],
   "source": [
    "def mergesort(S):\n",
    "    n = len(S)\n",
    "    if(n <= 1):\n",
    "        return S\n",
    "    else:\n",
    "        mid = n//2\n",
    "        #slice><\n",
    "        #recursive mergesort >> slice half and half and half...conti till 1 & 1\n",
    "        x = mergesort(S[0:mid])\n",
    "        y = mergesort(S[mid:n])\n",
    "        return merge(x, y)"
   ]
  },
  {
   "cell_type": "code",
   "execution_count": 43,
   "metadata": {},
   "outputs": [],
   "source": [
    "def merge(x, y):\n",
    "    S = []\n",
    "    #x[i], y[j]\n",
    "    i = 0\n",
    "    j = 0\n",
    "    ##\n",
    "    print(x)\n",
    "    print(y)\n",
    "   \n",
    "    while(i < len(x) and j < len(y)):\n",
    "        if(x[i] < y[j]):\n",
    "            S.append(x[i])\n",
    "            #print(\"i: \", x[i])\n",
    "            #print(\"S: \", S)\n",
    "            i += 1 \n",
    "            \n",
    "        else:\n",
    "            S.append(y[j])\n",
    "            #print(\"j: \", y[j])\n",
    "            #print(\"S: \", S)\n",
    "            j += 1\n",
    "            \n",
    "    #left-beind elements check\n",
    "    #i 가 남았으면~\n",
    "    if(i < len(x)):\n",
    "        S += x[i:len(x)]\n",
    "    \n",
    "    #j 가 남았으면~\n",
    "    elif(j < len(y)):\n",
    "        S += y[j:len(y)]\n",
    "     \n",
    "   \n",
    "    return S"
   ]
  },
  {
   "cell_type": "code",
   "execution_count": 44,
   "metadata": {},
   "outputs": [
    {
     "name": "stdout",
     "output_type": "stream",
     "text": [
      "before sorting:  [27, 10, 12, 20, 25, 13, 15, 22]\n",
      "[27]\n",
      "[10]\n",
      "[12]\n",
      "[20]\n",
      "[10, 27]\n",
      "[12, 20]\n",
      "[25]\n",
      "[13]\n",
      "[15]\n",
      "[22]\n",
      "[13, 25]\n",
      "[15, 22]\n",
      "[10, 12, 20, 27]\n",
      "[13, 15, 22, 25]\n",
      "after sorting:  [10, 12, 13, 15, 20, 22, 25, 27]\n"
     ]
    }
   ],
   "source": [
    "S = [27,10,12,20,25,13,15,22]\n",
    "print(\"before sorting: \", S)\n",
    "new_S = mergesort(S)\n",
    "print(\"after sorting: \", new_S)"
   ]
  },
  {
   "cell_type": "markdown",
   "metadata": {},
   "source": [
    "## mergesort & merge의 문제점?!\n",
    "\n",
    "입력된 S 외에 list x, y를 추가적으로 사용\n",
    "메모리 쥰나 비효율\n",
    "> when calling mergesort(), new x & y created\n",
    ">> 1st recursive call: x(n/2), y(n/2) >> n\n",
    ">>> 2nd recursive call: x(n/2)/2, y(n/2)/2 >> n/2\n",
    ">>>> nth recursive: n+(n/2)+(n/4)+... (approx. 2n)\n",
    "\n",
    ">space complexity can be O(n) but precisely, 2n!!! ㅈㄴ 비효율!"
   ]
  },
  {
   "cell_type": "code",
   "execution_count": 91,
   "metadata": {},
   "outputs": [],
   "source": [
    "## advanced merge\n",
    "\n",
    "def adv_merge(S, first, mid, last):\n",
    "    new_list = []\n",
    "    i = first\n",
    "    j = mid+1\n",
    "    while(i <= mid and j <= last):\n",
    "        if(S[i] < S[j]):\n",
    "            new_list.append(S[i])\n",
    "            i += 1\n",
    "        else:\n",
    "            new_list.append(S[j])\n",
    "            j += 1\n",
    "    \n",
    "    if(i <= mid):\n",
    "        new_list += S[i:mid+1]\n",
    "    else:\n",
    "        new_list += S[j:last+1]\n",
    "    \n",
    "    print(new_list)\n",
    "    for k in range(first, last+1):\n",
    "        S[k] = new_list[k-first]\n",
    "        print(\"S[k]: \", S[k])\n",
    "    \n",
    "    print(\"\\r\")\n",
    "    #print(\"new_list: \", new_list)\n",
    "    "
   ]
  },
  {
   "cell_type": "code",
   "execution_count": 92,
   "metadata": {},
   "outputs": [],
   "source": [
    "##enhanced mergesort\n",
    "\n",
    "def adv_mergesort(S, first, last):\n",
    "    if(first < last):\n",
    "        mid = (first+last)//2\n",
    "        adv_mergesort(S, first, mid)\n",
    "        adv_mergesort(S, mid+1, last)\n",
    "        adv_merge(S, first, mid, last)"
   ]
  },
  {
   "cell_type": "code",
   "execution_count": 93,
   "metadata": {},
   "outputs": [
    {
     "name": "stdout",
     "output_type": "stream",
     "text": [
      "[10, 27]\n",
      "S[k]:  10\n",
      "S[k]:  27\n",
      "\r\n",
      "[12, 20]\n",
      "S[k]:  12\n",
      "S[k]:  20\n",
      "\r\n",
      "[10, 12, 20, 27]\n",
      "S[k]:  10\n",
      "S[k]:  12\n",
      "S[k]:  20\n",
      "S[k]:  27\n",
      "\r\n",
      "[13, 25]\n",
      "S[k]:  13\n",
      "S[k]:  25\n",
      "\r\n",
      "[15, 22]\n",
      "S[k]:  15\n",
      "S[k]:  22\n",
      "\r\n",
      "[13, 15, 22, 25]\n",
      "S[k]:  13\n",
      "S[k]:  15\n",
      "S[k]:  22\n",
      "S[k]:  25\n",
      "\r\n",
      "[10, 12, 13, 15, 20, 22, 25, 27]\n",
      "S[k]:  10\n",
      "S[k]:  12\n",
      "S[k]:  13\n",
      "S[k]:  15\n",
      "S[k]:  20\n",
      "S[k]:  22\n",
      "S[k]:  25\n",
      "S[k]:  27\n",
      "\r\n",
      "[10, 12, 13, 15, 20, 22, 25, 27]\n"
     ]
    }
   ],
   "source": [
    "S = [27,10,12,20,25,13,15,22]\n",
    "adv_mergesort(S, 0, len(S)-1)\n",
    "print(S)\n"
   ]
  },
  {
   "cell_type": "code",
   "execution_count": null,
   "metadata": {},
   "outputs": [],
   "source": []
  }
 ],
 "metadata": {
  "kernelspec": {
   "display_name": "Python 3",
   "language": "python",
   "name": "python3"
  },
  "language_info": {
   "codemirror_mode": {
    "name": "ipython",
    "version": 3
   },
   "file_extension": ".py",
   "mimetype": "text/x-python",
   "name": "python",
   "nbconvert_exporter": "python",
   "pygments_lexer": "ipython3",
   "version": "3.8.3"
  }
 },
 "nbformat": 4,
 "nbformat_minor": 4
}
